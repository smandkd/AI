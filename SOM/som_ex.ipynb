{
 "cells": [
  {
   "cell_type": "code",
   "execution_count": 8,
   "id": "5db41749-16be-4d3b-bd1c-ab61241de074",
   "metadata": {},
   "outputs": [],
   "source": [
    "#%%\n",
    "\n",
    "import numpy as np\n",
    "import matplotlib.pyplot as plt\n",
    "import matplotlib.animation as animation\n",
    "%matplotlib inline"
   ]
  },
  {
   "cell_type": "code",
   "execution_count": 9,
   "id": "77858016-e99f-45e1-a296-8eb3409efc61",
   "metadata": {},
   "outputs": [],
   "source": [
    "# %%\n",
    "\n",
    "class SOM:\n",
    "    def __init__(self, width, height, input_dim):\n",
    "        self.width = width\n",
    "        self.height = height\n",
    "        self.input_dim = input_dim\n",
    "        self.weights = np.random.rand(height, width, input_dim)\n",
    "        self.learning_rate = 0.02\n",
    "        self.radius = max(width, height)/2\n",
    "    \n",
    "    def _find_bmu(self, input_vec):\n",
    "        distance = np.sum((self.weights - input_vec)**2, axis = 2)\n",
    "        return np.unravel_index(distance.argmin(), distance.shape)\n",
    "    \n",
    "    def _update_weights(self, input_vec, bmu, iteration, total_iteration):\n",
    "        learning_rate = self.learning_rate * np.exp(-iteration/total_iteration)\n",
    "        radius_decay = self.radius * np.exp(-iteration/total_iteration)\n",
    "        \n",
    "        for x in range(self.width):\n",
    "            for y in range(self.height):\n",
    "                dist_to_bmu = np.sqrt((x - bmu[1])**2 + (y - bmu[0])**2)\n",
    "                if dist_to_bmu <= radius_decay:\n",
    "                    influence = np.exp(-dist_to_bmu**2 / (2*(radius_decay**2)))\n",
    "                    self.weights[y, x, :] += learning_rate * influence * (input_vec - self.weights[y, x, :])\n",
    "    \n",
    "    def train(self, data, num_iterations):\n",
    "        weight_maps = []\n",
    "        for i in range(num_iterations):\n",
    "            for input_vec in data:\n",
    "                bmu = self._find_bmu(input_vec)\n",
    "                self._update_weights(input_vec, bmu, i, num_iterations)\n",
    "            weight_maps.append(np.copy(self.weights))\n",
    "        return weight_maps "
   ]
  },
  {
   "cell_type": "code",
   "execution_count": 10,
   "id": "a067513e-42ee-4d85-8251-f2dbf62b014b",
   "metadata": {},
   "outputs": [],
   "source": [
    "# %%\n",
    "\n",
    "som = SOM(20, 20, 3)\n",
    "data = np.random.rand(100, 3)\n",
    "num_iterations = 20 "
   ]
  },
  {
   "cell_type": "code",
   "execution_count": 11,
   "id": "c9f216a9-35e2-4132-9368-93b345095f33",
   "metadata": {},
   "outputs": [],
   "source": [
    "# %%\n",
    "\n",
    "weight_maps = som.train(data, num_iterations)"
   ]
  },
  {
   "cell_type": "code",
   "execution_count": 12,
   "id": "4850b2d0-e0a7-40a6-b240-596dd4d5ca87",
   "metadata": {},
   "outputs": [],
   "source": [
    "# %%\n",
    "\n",
    "def animate(i):\n",
    "    plt.imshow(weight_maps[i], interpolation='none')\n",
    "    plt.title(f'Iterations:{i+1}')\n",
    "    plt.axis('off')"
   ]
  },
  {
   "cell_type": "code",
   "execution_count": 13,
   "id": "e6956fbd-c5d7-494c-ac9e-0358abedaa7a",
   "metadata": {},
   "outputs": [
    {
     "data": {
      "text/plain": [
       "<Figure size 1000x1000 with 0 Axes>"
      ]
     },
     "metadata": {},
     "output_type": "display_data"
    },
    {
     "data": {
      "image/png": "[encoded data removed]",
      "text/plain": [
       "<Figure size 640x480 with 1 Axes>"
      ]
     },
     "metadata": {},
     "output_type": "display_data"
    }
   ],
   "source": [
    "# %%\n",
    "\n",
    "fig = plt.figure(figsize=(10, 10))\n",
    "ani = animation.FuncAnimation(fig, animate, frames=num_iterations, interval=100, repeat=False)\n",
    "plt.show()\n",
    "ani.save('som_ex.gif', writer='imagemagick')"
   ]
  }
 ],
 "metadata": {
  "language_info": {
   "codemirror_mode": {
    "name": "ipython",
    "version": 3
   },
   "file_extension": ".py",
   "mimetype": "text/x-python",
   "name": "python",
   "nbconvert_exporter": "python",
   "pygments_lexer": "ipython3",
   "version": 3
  }
 },
 "nbformat": 4,
 "nbformat_minor": 2
}
